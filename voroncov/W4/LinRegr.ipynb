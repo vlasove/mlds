{
 "cells": [
  {
   "cell_type": "code",
   "execution_count": 35,
   "metadata": {},
   "outputs": [],
   "source": [
    "import pandas as pd\n",
    "from sklearn.feature_extraction import DictVectorizer\n",
    "from sklearn.feature_extraction.text import TfidfVectorizer\n",
    "import scipy as sp\n",
    "from sklearn.linear_model import Ridge\n",
    "import numpy as np"
   ]
  },
  {
   "cell_type": "code",
   "execution_count": 32,
   "metadata": {},
   "outputs": [
    {
     "data": {
      "text/html": [
       "<div>\n",
       "<style scoped>\n",
       "    .dataframe tbody tr th:only-of-type {\n",
       "        vertical-align: middle;\n",
       "    }\n",
       "\n",
       "    .dataframe tbody tr th {\n",
       "        vertical-align: top;\n",
       "    }\n",
       "\n",
       "    .dataframe thead th {\n",
       "        text-align: right;\n",
       "    }\n",
       "</style>\n",
       "<table border=\"1\" class=\"dataframe\">\n",
       "  <thead>\n",
       "    <tr style=\"text-align: right;\">\n",
       "      <th></th>\n",
       "      <th>FullDescription</th>\n",
       "      <th>LocationNormalized</th>\n",
       "      <th>ContractTime</th>\n",
       "      <th>SalaryNormalized</th>\n",
       "    </tr>\n",
       "  </thead>\n",
       "  <tbody>\n",
       "    <tr>\n",
       "      <th>0</th>\n",
       "      <td>International Sales Manager London ****k  ****...</td>\n",
       "      <td>London</td>\n",
       "      <td>permanent</td>\n",
       "      <td>33000</td>\n",
       "    </tr>\n",
       "    <tr>\n",
       "      <th>1</th>\n",
       "      <td>An ideal opportunity for an individual that ha...</td>\n",
       "      <td>London</td>\n",
       "      <td>permanent</td>\n",
       "      <td>50000</td>\n",
       "    </tr>\n",
       "    <tr>\n",
       "      <th>2</th>\n",
       "      <td>Online Content and Brand Manager// Luxury Reta...</td>\n",
       "      <td>South East London</td>\n",
       "      <td>permanent</td>\n",
       "      <td>40000</td>\n",
       "    </tr>\n",
       "    <tr>\n",
       "      <th>3</th>\n",
       "      <td>A great local marketleader is seeking a perman...</td>\n",
       "      <td>Dereham</td>\n",
       "      <td>permanent</td>\n",
       "      <td>22500</td>\n",
       "    </tr>\n",
       "    <tr>\n",
       "      <th>4</th>\n",
       "      <td>Registered Nurse / RGN  Nursing Home for Young...</td>\n",
       "      <td>Sutton Coldfield</td>\n",
       "      <td>NaN</td>\n",
       "      <td>20355</td>\n",
       "    </tr>\n",
       "  </tbody>\n",
       "</table>\n",
       "</div>"
      ],
      "text/plain": [
       "                                     FullDescription LocationNormalized  \\\n",
       "0  International Sales Manager London ****k  ****...             London   \n",
       "1  An ideal opportunity for an individual that ha...             London   \n",
       "2  Online Content and Brand Manager// Luxury Reta...  South East London   \n",
       "3  A great local marketleader is seeking a perman...            Dereham   \n",
       "4  Registered Nurse / RGN  Nursing Home for Young...   Sutton Coldfield   \n",
       "\n",
       "  ContractTime  SalaryNormalized  \n",
       "0    permanent             33000  \n",
       "1    permanent             50000  \n",
       "2    permanent             40000  \n",
       "3    permanent             22500  \n",
       "4          NaN             20355  "
      ]
     },
     "execution_count": 32,
     "metadata": {},
     "output_type": "execute_result"
    }
   ],
   "source": [
    "\"\"\"\n",
    "Data loading\n",
    "\"\"\"\n",
    "df = pd.read_csv('salary-train.csv')\n",
    "df_pred = pd.read_csv('salary-test-mini.csv')\n",
    "df.head()"
   ]
  },
  {
   "cell_type": "code",
   "execution_count": 33,
   "metadata": {},
   "outputs": [
    {
     "name": "stdout",
     "output_type": "stream",
     "text": [
      "60000\n"
     ]
    }
   ],
   "source": [
    "\"\"\"\n",
    "Data preparing\n",
    "\"\"\"\n",
    "# Меняем пропуски на 'nan'\n",
    "df['LocationNormalized'].fillna('nan', inplace=True)\n",
    "df['ContractTime'].fillna('nan', inplace=True)\n",
    "\n",
    "df_pred['LocationNormalized'].fillna('nan', inplace=True)\n",
    "df_pred['ContractTime'].fillna('nan', inplace=True)\n",
    "\n",
    "# Vectorizer для LocationNormalized и ContractTime\n",
    "vectorizer = DictVectorizer()\n",
    "X_loc_contr = vectorizer.fit_transform(\n",
    "    df[['LocationNormalized', 'ContractTime']].to_dict('records'))\n",
    "X_loc_contr_pred = vectorizer.transform(\n",
    "    df_pred[['LocationNormalized', 'ContractTime']].to_dict('records'))\n",
    "\n",
    "# FullDescription parsing\n",
    "df['FullDescription'] = df['FullDescription'].apply(lambda x: x.lower())\n",
    "df['FullDescription'] = df['FullDescription'].replace('[^a-zA-Z0-9]',\n",
    "                                                      ' ',\n",
    "                                                      regex=True)\n",
    "text_vectorizer = TfidfVectorizer(min_df=5)\n",
    "X_full_description = text_vectorizer.fit_transform(df['FullDescription'])\n",
    "\n",
    "df_pred['FullDescription'] = df_pred['FullDescription'].apply(\n",
    "    lambda x: x.lower())\n",
    "df_pred['FullDescription'] = df_pred['FullDescription'].replace('[^a-zA-Z0-9]',\n",
    "                                                                ' ',\n",
    "                                                                regex=True)\n",
    "X_full_description_pred = text_vectorizer.transform(df_pred['FullDescription'])\n",
    "\n",
    "# Combination of FullDescription and X_loc_contr\n",
    "data = sp.sparse.hstack([X_full_description, X_loc_contr])\n",
    "data_pred = sp.sparse.hstack([X_full_description_pred, X_loc_contr_pred])\n",
    "print(data.shape[0])"
   ]
  },
  {
   "cell_type": "code",
   "execution_count": 30,
   "metadata": {},
   "outputs": [
    {
     "data": {
      "text/plain": [
       "Ridge(random_state=241)"
      ]
     },
     "execution_count": 30,
     "metadata": {},
     "output_type": "execute_result"
    }
   ],
   "source": [
    "\"\"\"\n",
    "Regressor preparing\n",
    "\"\"\"\n",
    "rgr = Ridge(alpha=1.0, random_state=241)\n",
    "rgr.fit(data, df['SalaryNormalized'])"
   ]
  },
  {
   "cell_type": "code",
   "execution_count": 36,
   "metadata": {},
   "outputs": [],
   "source": [
    "\"\"\"\n",
    "Prediction making\n",
    "\"\"\"\n",
    "ans = rgr.predict(data_pred)\n",
    "ans = [str(np.round(x)) for x in ans]\n",
    "\n",
    "with open(\"w4s1.txt\", \"w\") as fhand:\n",
    "    fhand.write(\" \".join(ans))"
   ]
  },
  {
   "cell_type": "code",
   "execution_count": null,
   "metadata": {},
   "outputs": [],
   "source": []
  }
 ],
 "metadata": {
  "kernelspec": {
   "display_name": "Python 3",
   "language": "python",
   "name": "python3"
  },
  "language_info": {
   "codemirror_mode": {
    "name": "ipython",
    "version": 3
   },
   "file_extension": ".py",
   "mimetype": "text/x-python",
   "name": "python",
   "nbconvert_exporter": "python",
   "pygments_lexer": "ipython3",
   "version": "3.8.3"
  }
 },
 "nbformat": 4,
 "nbformat_minor": 4
}
