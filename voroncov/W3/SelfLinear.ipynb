{
 "cells": [
  {
   "cell_type": "code",
   "execution_count": 46,
   "metadata": {},
   "outputs": [],
   "source": [
    "import pandas as pd\n",
    "import numpy as np\n",
    "from sklearn.metrics import roc_auc_score"
   ]
  },
  {
   "cell_type": "code",
   "execution_count": 47,
   "metadata": {},
   "outputs": [],
   "source": [
    "df = pd.read_csv('data-logistic.csv', header=None)\n",
    "X = df.iloc[:, 1:]\n",
    "y = df.iloc[:, 0]"
   ]
  },
  {
   "cell_type": "code",
   "execution_count": 51,
   "metadata": {},
   "outputs": [],
   "source": [
    "def euclid_distance(w1: list, w2: list) -> float:\n",
    "    \"\"\"\n",
    "    Caclc Euclid distance between w1 vector and w2 vector\n",
    "    \"\"\"\n",
    "    res = (w1[0] - w2[0])**2 + (w1[1] - w2[1])**2\n",
    "    res = res**0.5\n",
    "    return res\n",
    "\n",
    "\n",
    "def logistic_regression(X_data: pd.DataFrame,\n",
    "                        y: pd.DataFrame,\n",
    "                        k: float = 0.1,\n",
    "                        w: list = [0, 0],\n",
    "                        max_iter: int = 10000,\n",
    "                        stop_euqlid: float = 10**(-5)):\n",
    "    \"\"\"\n",
    "    X_data - признаковое описание объектов\n",
    "    y - вектор ответов\n",
    "    k - размер градиентного шага\n",
    "    w - инициализирующий вектор весов, по умолчанию 0 ,0\n",
    "    max_iter - максимальное количество итераций\n",
    "    stop_euqlid - критерий сходимости\n",
    "    \"\"\"\n",
    "    w_old = w\n",
    "    X1 = X_data.iloc[:, 0]\n",
    "    X2 = X_data.iloc[:, 1]\n",
    "    for i in range(max_iter):\n",
    "        part1 = 0\n",
    "        part2 = 0\n",
    "        for j in range(len(X_data)):\n",
    "            part1 += y[j] * X1[j] * (\n",
    "                1 - 1 / (1 + np.exp(-y[j] *\n",
    "                                    (w_old[0] * X1[j] + w_old[1] * X2[j]))))\n",
    "            part2 += y[j] * X2[j] * (\n",
    "                1 - 1 / (1 + np.exp(-y[j] *\n",
    "                                    (w_old[0] * X1[j] + w_old[1] * X2[j]))))\n",
    "        w1 = w_old[0] + k * part1 / len(X_data)\n",
    "        w2 = w_old[1] + k * part2 / len(X_data)\n",
    "        w_new = [w1, w2]\n",
    "        if euclid_distance(w_old, w_new) <= stop_euqlid:\n",
    "            print(\"Final iteration:\", i)\n",
    "            return w_new\n",
    "        else:\n",
    "            w_old = w_new\n",
    "    return w_old\n",
    "\n",
    "\n",
    "def logistic_regression_regularization(X_data: pd.DataFrame,\n",
    "                                       y: pd.DataFrame,\n",
    "                                       k: float = 0.1,\n",
    "                                       w: list = [0, 0],\n",
    "                                       C=10,\n",
    "                                       max_iter: int = 10000,\n",
    "                                       stop_euqlid: float = 10**(-5)):\n",
    "    \"\"\"\n",
    "    X_data - признаковое описание объектов\n",
    "    y - вектор ответов\n",
    "    k - размер градиентного шага\n",
    "    w - инициализирующий вектор весов, по умолчанию 0 ,0\n",
    "    max_iter - максимальное количество итераций\n",
    "    stop_euqlid - критерий сходимости\n",
    "    C - константа регуляризации\n",
    "    \"\"\"\n",
    "    w_old = w\n",
    "    X1 = X_data.iloc[:, 0]\n",
    "    X2 = X_data.iloc[:, 1]\n",
    "    for i in range(max_iter):\n",
    "        part1 = 0\n",
    "        part2 = 0\n",
    "        for j in range(len(X_data)):\n",
    "            part1 += y[j] * X1[j] * (\n",
    "                1 - 1 / (1 + np.exp(-y[j] *\n",
    "                                    (w_old[0] * X1[j] + w_old[1] * X2[j]))))\n",
    "            part2 += y[j] * X2[j] * (\n",
    "                1 - 1 / (1 + np.exp(-y[j] *\n",
    "                                    (w_old[0] * X1[j] + w_old[1] * X2[j]))))\n",
    "        w1 = w_old[0] + k * part1 / len(X_data) - k * C * w_old[0]\n",
    "        w2 = w_old[1] + k * part2 / len(X_data) - k * C * w_old[1]\n",
    "        w_new = [w1, w2]\n",
    "        if euclid_distance(w_old, w_new) <= stop_euqlid:\n",
    "            print(\"Final iteration:\", i)\n",
    "            return w_new\n",
    "        else:\n",
    "            w_old = w_new\n",
    "    return w_old\n",
    "\n",
    "\n",
    "def sigmoid(x1, x2, w1, w2):\n",
    "    \"\"\"\n",
    "    sigmoid function\n",
    "    \"\"\"\n",
    "    return 1 / (1 + np.exp(-w1 * x1 - w2 * x2))\n",
    "\n",
    "\n",
    "def classifier(X_data: pd.DataFrame, w: list) -> pd.DataFrame:\n",
    "    \"\"\"\n",
    "    X_data - признаковое описание объектов\n",
    "    w - ветор весов\n",
    "    \"\"\"\n",
    "    a = []\n",
    "    X1 = X_data.iloc[:, 0]\n",
    "    X2 = X_data.iloc[:, 1]\n",
    "    for i in range(len(X_data)):\n",
    "        a.append(sigmoid(X1[i], X2[i], w[0], w[1]))\n",
    "    return pd.DataFrame(a)"
   ]
  },
  {
   "cell_type": "code",
   "execution_count": 55,
   "metadata": {},
   "outputs": [
    {
     "name": "stdout",
     "output_type": "stream",
     "text": [
      "Final iteration: 5114\n",
      "Non regularization: 0.9325714285714286\n"
     ]
    }
   ],
   "source": [
    "w_ans = logistic_regression(X,y, k=0.001, w=[1/100, 1/100])\n",
    "ans = classifier(X, w_ans)\n",
    "print(\"Non regularization:\", roc_auc_score(y, ans))"
   ]
  },
  {
   "cell_type": "code",
   "execution_count": 56,
   "metadata": {},
   "outputs": [
    {
     "name": "stdout",
     "output_type": "stream",
     "text": [
      "Final iteration: 268\n",
      "Non regularization: 0.936190476190476\n"
     ]
    }
   ],
   "source": [
    "w_ans_reg = logistic_regression_regularization(X,y, k=0.001, w=[1/100, 1/100])\n",
    "ans_reg = classifier(X, w_ans_reg)\n",
    "print(\"Non regularization:\", roc_auc_score(y, ans_reg))"
   ]
  },
  {
   "cell_type": "code",
   "execution_count": 54,
   "metadata": {},
   "outputs": [],
   "source": [
    "with open('w3s3.txt', 'w') as fhand:\n",
    "    fhand.write(str(np.round(roc_auc_score(y, ans), decimals=3)) + \" \" + str(np.round(roc_auc_score(y, ans_reg), decimals =3)) )"
   ]
  },
  {
   "cell_type": "code",
   "execution_count": null,
   "metadata": {},
   "outputs": [],
   "source": []
  }
 ],
 "metadata": {
  "kernelspec": {
   "display_name": "Python 3",
   "language": "python",
   "name": "python3"
  },
  "language_info": {
   "codemirror_mode": {
    "name": "ipython",
    "version": 3
   },
   "file_extension": ".py",
   "mimetype": "text/x-python",
   "name": "python",
   "nbconvert_exporter": "python",
   "pygments_lexer": "ipython3",
   "version": "3.8.3"
  }
 },
 "nbformat": 4,
 "nbformat_minor": 4
}
