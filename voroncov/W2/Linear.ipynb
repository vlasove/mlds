{
 "cells": [
  {
   "cell_type": "code",
   "execution_count": 71,
   "metadata": {},
   "outputs": [],
   "source": [
    "import numpy as np \n",
    "import pandas as pd \n",
    "from sklearn.linear_model import Perceptron\n",
    "from sklearn.metrics import accuracy_score\n",
    "from sklearn.preprocessing import StandardScaler"
   ]
  },
  {
   "cell_type": "code",
   "execution_count": 72,
   "metadata": {},
   "outputs": [],
   "source": [
    "train_df = pd.read_csv('train.csv', header=None)\n",
    "train_df.columns = ['target', 'first', 'second']\n",
    "\n",
    "test_df = pd.read_csv('test.csv',header = None)\n",
    "test_df.columns = ['target', 'first', 'second']"
   ]
  },
  {
   "cell_type": "code",
   "execution_count": 73,
   "metadata": {},
   "outputs": [
    {
     "name": "stdout",
     "output_type": "stream",
     "text": [
      "Before normalize: 0.655\n"
     ]
    }
   ],
   "source": [
    "# Не нормализованные\n",
    "target = train_df['target']\n",
    "data = train_df[['first', 'second']]\n",
    "\n",
    "clf = Perceptron()\n",
    "clf.fit(data,target)\n",
    "\n",
    "acc_before = accuracy_score(test_df['target'], clf.predict(test_df[['first', 'second']]))\n",
    "print(\"Before normalize:\", acc_before)"
   ]
  },
  {
   "cell_type": "code",
   "execution_count": 74,
   "metadata": {},
   "outputs": [
    {
     "name": "stdout",
     "output_type": "stream",
     "text": [
      "After normalize: 0.88\n"
     ]
    }
   ],
   "source": [
    "# Нормализованые\n",
    "scaler = StandardScaler()\n",
    "data_scaled = scaler.fit_transform(data)\n",
    "test_data_scaled = scaler.fit_transform(test_df[['first', 'second']])\n",
    "\n",
    "clf = Perceptron()\n",
    "clf.fit(data_scaled,target)\n",
    "\n",
    "acc_after = accuracy_score(test_df['target'], clf.predict(test_data_scaled))\n",
    "print(\"After normalize:\", acc_after)"
   ]
  },
  {
   "cell_type": "code",
   "execution_count": 75,
   "metadata": {},
   "outputs": [
    {
     "name": "stdout",
     "output_type": "stream",
     "text": [
      "Difference: 0.22499999999999998\n"
     ]
    }
   ],
   "source": [
    "print(\"Difference:\", acc_after - acc_before)"
   ]
  },
  {
   "cell_type": "code",
   "execution_count": 64,
   "metadata": {},
   "outputs": [
    {
     "data": {
      "text/plain": [
       "0.22499999999999998"
      ]
     },
     "execution_count": 64,
     "metadata": {},
     "output_type": "execute_result"
    }
   ],
   "source": []
  },
  {
   "cell_type": "code",
   "execution_count": null,
   "metadata": {},
   "outputs": [],
   "source": []
  }
 ],
 "metadata": {
  "kernelspec": {
   "display_name": "Python 3",
   "language": "python",
   "name": "python3"
  },
  "language_info": {
   "codemirror_mode": {
    "name": "ipython",
    "version": 3
   },
   "file_extension": ".py",
   "mimetype": "text/x-python",
   "name": "python",
   "nbconvert_exporter": "python",
   "pygments_lexer": "ipython3",
   "version": "3.8.3"
  }
 },
 "nbformat": 4,
 "nbformat_minor": 4
}
