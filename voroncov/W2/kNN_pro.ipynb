{
 "cells": [
  {
   "cell_type": "code",
   "execution_count": 18,
   "metadata": {},
   "outputs": [],
   "source": [
    "import pandas as pd \n",
    "from sklearn.neighbors import KNeighborsClassifier\n",
    "from sklearn.model_selection import cross_val_score, KFold\n",
    "from sklearn.preprocessing import scale\n",
    "from sklearn.model_selection import GridSearchCV"
   ]
  },
  {
   "cell_type": "code",
   "execution_count": 16,
   "metadata": {},
   "outputs": [],
   "source": [
    "\"\"\"\n",
    "Data preparing\n",
    "\"\"\"\n",
    "\n",
    "\n",
    "def scaler(X: pd.DataFrame, y: pd.DataFrame) -> tuple:\n",
    "    return (scale(X), y)\n",
    "\n",
    "\n",
    "df = pd.read_csv('wine.csv', header=None)\n",
    "X = df.iloc[:, 1:]\n",
    "y = df.iloc[:, 0]\n",
    "X_scaled, y_scaled = scaler(X, y)"
   ]
  },
  {
   "cell_type": "code",
   "execution_count": 19,
   "metadata": {},
   "outputs": [],
   "source": [
    "\"\"\"\n",
    "Model preparing\n",
    "\"\"\"\n",
    "cv = KFold(n_splits=5, shuffle=True, random_state=42)\n",
    "params = {'n_neighbors': [x for x in range(1, 51)]}\n",
    "knn = KNeighborsClassifier()\n",
    "clf = GridSearchCV(knn, params, cv=cv)"
   ]
  },
  {
   "cell_type": "code",
   "execution_count": 34,
   "metadata": {},
   "outputs": [],
   "source": [
    "\"\"\"\n",
    "Unscaled data fitting\n",
    "\"\"\"\n",
    "import numpy as np\n",
    "clf.fit(X, y)\n",
    "best_k = clf.best_estimator_.get_params()['n_neighbors']\n",
    "best_score = clf.best_score_\n",
    "\n",
    "with open(\"first_ans.txt\", \"w\") as fhand:\n",
    "    fhand.write(str(best_k))\n",
    "with open(\"second_ans.txt\", \"w\") as fhand:\n",
    "    fhand.write(str(np.round(best_score, decimals=2)))"
   ]
  },
  {
   "cell_type": "code",
   "execution_count": 35,
   "metadata": {},
   "outputs": [],
   "source": [
    "\"\"\"\n",
    "Scaled data fitting\n",
    "\"\"\"\n",
    "clf.fit(X_scaled, y_scaled)\n",
    "best_k = clf.best_estimator_.get_params()['n_neighbors']\n",
    "best_score = clf.best_score_\n",
    "\n",
    "with open(\"third_ans.txt\", \"w\") as fhand:\n",
    "    fhand.write(str(best_k))\n",
    "with open(\"fourth.txt_ans.txt\", \"w\") as fhand:\n",
    "    fhand.write(str(np.round(best_score, decimals=2)))"
   ]
  },
  {
   "cell_type": "code",
   "execution_count": null,
   "metadata": {},
   "outputs": [],
   "source": []
  }
 ],
 "metadata": {
  "kernelspec": {
   "display_name": "Python 3",
   "language": "python",
   "name": "python3"
  },
  "language_info": {
   "codemirror_mode": {
    "name": "ipython",
    "version": 3
   },
   "file_extension": ".py",
   "mimetype": "text/x-python",
   "name": "python",
   "nbconvert_exporter": "python",
   "pygments_lexer": "ipython3",
   "version": "3.8.3"
  }
 },
 "nbformat": 4,
 "nbformat_minor": 4
}
