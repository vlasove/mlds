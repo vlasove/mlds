{
 "cells": [
  {
   "cell_type": "code",
   "execution_count": 2,
   "metadata": {},
   "outputs": [],
   "source": [
    "import pandas as pd \n",
    "import numpy as np \n",
    "from sklearn.linear_model import Perceptron\n",
    "from sklearn.metrics import accuracy_score\n",
    "from sklearn.preprocessing import StandardScaler\n"
   ]
  },
  {
   "cell_type": "code",
   "execution_count": 5,
   "metadata": {},
   "outputs": [],
   "source": [
    "\"\"\"\n",
    "Data preparing\n",
    "\"\"\"\n",
    "def scaling( X_train:pd.DataFrame, X_test:pd.DataFrame) -> tuple:\n",
    "    \"\"\"\n",
    "    Data scaling\n",
    "    \"\"\"\n",
    "    scaler = StandardScaler()\n",
    "    X_train = scaler.fit_transform(X_train)\n",
    "    X_test = scaler.transform(X_test)\n",
    "    return (X_train, X_test)\n",
    "    \n",
    "df_test = pd.read_csv('test.csv', header=None)\n",
    "df_train = pd.read_csv('train.csv', header=None)\n",
    "\n",
    "X_test = df_test.iloc[:,1:]\n",
    "y_test = df_test.iloc[:,0]\n",
    "\n",
    "X_train = df_train.iloc[:, 1:]\n",
    "y_train = df_train.iloc[:,0]\n",
    "\n",
    "X_train_scaled, X_test_scaled = scaling(X_train, X_test)"
   ]
  },
  {
   "cell_type": "code",
   "execution_count": 11,
   "metadata": {},
   "outputs": [],
   "source": [
    "\"\"\"\n",
    "Model fitting\n",
    "\"\"\"\n",
    "def acc_Perceptron( X_train:pd.DataFrame, y_train:pd.DataFrame, X_test:pd.DataFrame, y_test:pd.DataFrame) -> float:\n",
    "    \"\"\"\n",
    "    Return accuracy_score of fitting Perceptron\n",
    "    \"\"\"\n",
    "    clf = Perceptron()\n",
    "    clf.fit(X_train, y_train)\n",
    "    predict = clf.predict(X_test)\n",
    "    return accuracy_score(y_test, predict)\n",
    "\n",
    "non_scaled = acc_Perceptron(X_train, y_train, X_test, y_test)\n",
    "scaled = acc_Perceptron(X_train_scaled, y_train, X_test_scaled, y_test)\n",
    "\n"
   ]
  },
  {
   "cell_type": "code",
   "execution_count": 14,
   "metadata": {},
   "outputs": [],
   "source": [
    "\"\"\"\n",
    "Answer preparing\n",
    "\"\"\"\n",
    "ans = np.round(abs(scaled - non_scaled), decimals=3)\n",
    "with open('linear_ans.txt', 'w') as fhand:\n",
    "    fhand.write(str(ans))"
   ]
  },
  {
   "cell_type": "code",
   "execution_count": null,
   "metadata": {},
   "outputs": [],
   "source": []
  }
 ],
 "metadata": {
  "kernelspec": {
   "display_name": "Python 3",
   "language": "python",
   "name": "python3"
  },
  "language_info": {
   "codemirror_mode": {
    "name": "ipython",
    "version": 3
   },
   "file_extension": ".py",
   "mimetype": "text/x-python",
   "name": "python",
   "nbconvert_exporter": "python",
   "pygments_lexer": "ipython3",
   "version": "3.8.3"
  }
 },
 "nbformat": 4,
 "nbformat_minor": 4
}
