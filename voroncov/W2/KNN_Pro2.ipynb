{
 "cells": [
  {
   "cell_type": "code",
   "execution_count": 1,
   "metadata": {},
   "outputs": [],
   "source": [
    "from sklearn.datasets import load_boston\n",
    "import numpy as np\n",
    "from sklearn.neighbors import KNeighborsRegressor\n",
    "from sklearn.model_selection import KFold, cross_val_score, GridSearchCV\n",
    "from sklearn.preprocessing import scale"
   ]
  },
  {
   "cell_type": "code",
   "execution_count": 2,
   "metadata": {},
   "outputs": [],
   "source": [
    "\"\"\"\n",
    "Data preparing\n",
    "\"\"\"\n",
    "df = load_boston()\n",
    "X = scale(df['data'])\n",
    "y = df['target']"
   ]
  },
  {
   "cell_type": "code",
   "execution_count": 5,
   "metadata": {},
   "outputs": [],
   "source": [
    "\"\"\"\n",
    "Model preparing\n",
    "\"\"\"\n",
    "def find_optimal_p_for_KNN_regression(X, y) -> float:\n",
    "    \"\"\"\n",
    "    Fitting KNN regrssor\n",
    "    and return optimal_p\n",
    "    \"\"\"\n",
    "    kf = KFold(n_splits=5, shuffle=True, random_state=42)\n",
    "    params_vs_accuracy = []\n",
    "    for param in np.linspace(1, 10, 200):\n",
    "        rgr = KNeighborsRegressor(n_neighbors=5, weights='distance', p=param)\n",
    "        acc = cross_val_score(rgr,X, y,cv=kf,scoring='neg_mean_squared_error')\n",
    "        params_vs_accuracy.append(( sum(acc)/len(acc), param))\n",
    "    params_vs_accuracy.sort(reverse=True)\n",
    "    return params_vs_accuracy[0][1]\n",
    "\n",
    "p = find_optimal_p_for_KNN_regression(X,y)\n",
    "\n",
    "with open('five_ans.txt', 'w') as fhand:\n",
    "    fhand.write(str(p))\n"
   ]
  },
  {
   "cell_type": "code",
   "execution_count": 4,
   "metadata": {},
   "outputs": [
    {
     "data": {
      "text/plain": [
       "KNeighborsRegressor(n_neighbors=3, p=1.2261306532663316, weights='distance')"
      ]
     },
     "execution_count": 4,
     "metadata": {},
     "output_type": "execute_result"
    }
   ],
   "source": [
    "r.best_estimator_"
   ]
  },
  {
   "cell_type": "code",
   "execution_count": null,
   "metadata": {},
   "outputs": [],
   "source": [
    "cross_val_score(r, X,y)"
   ]
  },
  {
   "cell_type": "code",
   "execution_count": null,
   "metadata": {},
   "outputs": [],
   "source": []
  }
 ],
 "metadata": {
  "kernelspec": {
   "display_name": "Python 3",
   "language": "python",
   "name": "python3"
  },
  "language_info": {
   "codemirror_mode": {
    "name": "ipython",
    "version": 3
   },
   "file_extension": ".py",
   "mimetype": "text/x-python",
   "name": "python",
   "nbconvert_exporter": "python",
   "pygments_lexer": "ipython3",
   "version": "3.8.3"
  }
 },
 "nbformat": 4,
 "nbformat_minor": 4
}
