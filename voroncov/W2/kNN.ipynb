{
 "cells": [
  {
   "cell_type": "code",
   "execution_count": 40,
   "metadata": {},
   "outputs": [],
   "source": [
    "import pandas as pd \n",
    "from sklearn.neighbors import KNeighborsClassifier\n",
    "from sklearn.model_selection import KFold, cross_val_score"
   ]
  },
  {
   "cell_type": "code",
   "execution_count": 44,
   "metadata": {},
   "outputs": [
    {
     "name": "stderr",
     "output_type": "stream",
     "text": [
      "<ipython-input-44-7c26e578cd32>:15: SettingWithCopyWarning: \n",
      "A value is trying to be set on a copy of a slice from a DataFrame.\n",
      "Try using .loc[row_indexer,col_indexer] = value instead\n",
      "\n",
      "See the caveats in the documentation: https://pandas.pydata.org/pandas-docs/stable/user_guide/indexing.html#returning-a-view-versus-a-copy\n",
      "  data[col] = (data[col] - avg) / std\n"
     ]
    }
   ],
   "source": [
    "# Подготовка данных\n",
    "df = pd.read_csv('wine.csv')\n",
    "df.columns = ['Class', 'Alcohol', 'Malic', 'Ash', 'Alcalinity', 'Magnesium', 'Totalphenols', 'Flavonids', 'Nonflavonid', 'Proanth','Color', 'Hue', 'OD280', 'Proline']\n",
    "\n",
    "target = df['Class']\n",
    "data = df[df.columns[1:]]\n",
    "\n",
    "target_non_norm = target \n",
    "data_non_norm = data.copy()\n",
    "\n",
    "def normalize(data:pd.DataFrame):\n",
    "    for col in data.columns:\n",
    "        avg = data[col].mean()\n",
    "        std = data[col].std()\n",
    "        data[col] = (data[col] - avg) / std \n",
    "    return data\n",
    "\n",
    "data = normalize(data)\n"
   ]
  },
  {
   "cell_type": "code",
   "execution_count": 42,
   "metadata": {},
   "outputs": [],
   "source": [
    "# Подготовка разбиений\n",
    "kf = KFold(n_splits=5, shuffle=True, random_state=42)\n",
    "\n",
    "opt_k = {}\n",
    "# Подготовка модели\n",
    "for i in range(1, 51):\n",
    "    clf = KNeighborsClassifier(n_neighbors=i)\n",
    "    accuracy = cross_val_score(clf, data, target, cv=kf, scoring='accuracy')\n",
    "    avg_accuracy = sum(accuracy) / len(accuracy)\n",
    "    opt_k[i] = avg_accuracy"
   ]
  },
  {
   "cell_type": "code",
   "execution_count": 43,
   "metadata": {},
   "outputs": [
    {
     "data": {
      "text/plain": [
       "[(0.9773015873015873, 37),\n",
       " (0.9773015873015873, 36),\n",
       " (0.9773015873015873, 35),\n",
       " (0.9773015873015873, 34),\n",
       " (0.9773015873015873, 33),\n",
       " (0.9773015873015873, 32),\n",
       " (0.9773015873015873, 31),\n",
       " (0.9773015873015873, 30),\n",
       " (0.9773015873015873, 29),\n",
       " (0.9773015873015873, 28),\n",
       " (0.9719047619047618, 7),\n",
       " (0.9717460317460318, 27)]"
      ]
     },
     "execution_count": 43,
     "metadata": {},
     "output_type": "execute_result"
    }
   ],
   "source": [
    "opt_k_lst = [(v, k) for k, v in opt_k.items()]\n",
    "opt_k_lst.sort(reverse=True)\n",
    "opt_k_lst[:12]"
   ]
  },
  {
   "cell_type": "code",
   "execution_count": 45,
   "metadata": {},
   "outputs": [
    {
     "data": {
      "text/plain": [
       "[(0.7352380952380952, 1),\n",
       " (0.7350793650793651, 15),\n",
       " (0.7293650793650794, 20),\n",
       " (0.7293650793650794, 18),\n",
       " (0.7293650793650794, 16),\n",
       " (0.7293650793650793, 27),\n",
       " (0.7293650793650793, 25),\n",
       " (0.7293650793650793, 17),\n",
       " (0.7292063492063492, 28),\n",
       " (0.7238095238095238, 26),\n",
       " (0.7236507936507938, 7),\n",
       " (0.7236507936507937, 31)]"
      ]
     },
     "execution_count": 45,
     "metadata": {},
     "output_type": "execute_result"
    }
   ],
   "source": [
    "# Для ненормированных данных\n",
    "kf = KFold(n_splits=5, shuffle=True, random_state=42)\n",
    "opt_k_non = {}\n",
    "# Подготовка модели\n",
    "for i in range(1, 51):\n",
    "    clf = KNeighborsClassifier(n_neighbors=i)\n",
    "    accuracy = cross_val_score(clf, data_non_norm, target_non_norm, cv=kf, scoring='accuracy')\n",
    "    avg_accuracy = sum(accuracy) / len(accuracy)\n",
    "    opt_k_non[i] = avg_accuracy\n",
    "    \n",
    "opt_k_lst_non = [(v, k) for k, v in opt_k_non.items()]\n",
    "opt_k_lst_non.sort(reverse=True)\n",
    "opt_k_lst_non[:12]"
   ]
  },
  {
   "cell_type": "code",
   "execution_count": 55,
   "metadata": {},
   "outputs": [],
   "source": [
    "#### Вторая часть\n",
    "from sklearn.neighbors import KNeighborsRegressor\n",
    "from sklearn.datasets import load_boston\n",
    "from sklearn.preprocessing import scale\n",
    "import numpy as np"
   ]
  },
  {
   "cell_type": "code",
   "execution_count": 56,
   "metadata": {},
   "outputs": [],
   "source": [
    "df = load_boston()\n",
    "data = df['data'] \n",
    "target = df['target']\n",
    "dataa = scale(data)"
   ]
  },
  {
   "cell_type": "code",
   "execution_count": 57,
   "metadata": {},
   "outputs": [
    {
     "data": {
      "text/plain": [
       "[(-29.7872280754304, 1.0),\n",
       " (-30.206823991751406, 1.0452261306532664),\n",
       " (-30.411844062975423, 1.0904522613065326),\n",
       " (-30.97042179593103, 1.135678391959799),\n",
       " (-31.203063422624012, 1.1809045226130652),\n",
       " (-31.26017880077607, 1.2261306532663316),\n",
       " (-31.91025494789222, 1.271356783919598),\n",
       " (-32.293780252320516, 1.3165829145728645),\n",
       " (-32.88732359621541, 1.3618090452261307),\n",
       " (-33.71911507634873, 1.4070351758793969),\n",
       " (-34.29250061396575, 1.4522613065326633),\n",
       " (-34.40110912135927, 1.4974874371859297)]"
      ]
     },
     "execution_count": 57,
     "metadata": {},
     "output_type": "execute_result"
    }
   ],
   "source": [
    "# Подготовка разбиений\n",
    "kf = KFold(n_splits=5, shuffle=True, random_state=42)\n",
    "opt_p = {}\n",
    "for param in np.linspace(1,10, 200):\n",
    "    rgr = KNeighborsRegressor(n_neighbors=5, weights='distance', p=param)\n",
    "    accuracy = cross_val_score(rgr, data, target, cv=kf, scoring='neg_mean_squared_error')\n",
    "    avg_accuracy = sum(accuracy) / len(accuracy)\n",
    "    opt_p[param] = avg_accuracy\n",
    "opt_p_lst = [(v, k) for k, v in opt_p.items()]\n",
    "opt_p_lst.sort(reverse=True)\n",
    "opt_p_lst[:12]\n",
    "    "
   ]
  },
  {
   "cell_type": "code",
   "execution_count": null,
   "metadata": {},
   "outputs": [],
   "source": []
  }
 ],
 "metadata": {
  "kernelspec": {
   "display_name": "Python 3",
   "language": "python",
   "name": "python3"
  },
  "language_info": {
   "codemirror_mode": {
    "name": "ipython",
    "version": 3
   },
   "file_extension": ".py",
   "mimetype": "text/x-python",
   "name": "python",
   "nbconvert_exporter": "python",
   "pygments_lexer": "ipython3",
   "version": "3.8.3"
  }
 },
 "nbformat": 4,
 "nbformat_minor": 4
}
