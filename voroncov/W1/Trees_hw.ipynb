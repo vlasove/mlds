{
 "cells": [
  {
   "cell_type": "code",
   "execution_count": 9,
   "metadata": {},
   "outputs": [],
   "source": [
    "import pandas as pd\n",
    "from sklearn.tree import DecisionTreeClassifier\n",
    "import numpy as np"
   ]
  },
  {
   "cell_type": "code",
   "execution_count": 33,
   "metadata": {},
   "outputs": [],
   "source": [
    "# Read csv and make some datas\n",
    "df = pd.read_csv('titanic.csv', index_col='PassengerId')\n",
    "data = df[['Pclass', 'Age', 'Sex', 'Fare', 'Survived']].dropna()\n",
    "data['Sex'] = data['Sex'].apply(lambda x: 0 if x == 'female' else 1)\n",
    "\n",
    "y = data['Survived']\n",
    "X = data[['Pclass', 'Age', 'Sex', 'Fare']]\n",
    "# df = df.dropna()\n",
    "# target = df['Survived']\n",
    "# data = df[['Pclass', 'Age', 'Sex', 'Fare']]\n",
    "# feature = ['Pclass', 'Age', 'Sex', 'Fare']\n",
    "# data['Sex'] = data['Sex'].apply(lambda x : 0 if x == 'female' else 1)"
   ]
  },
  {
   "cell_type": "code",
   "execution_count": 34,
   "metadata": {},
   "outputs": [
    {
     "name": "stdout",
     "output_type": "stream",
     "text": [
      "[0.14000522 0.2560461  0.30051221 0.30343647]\n"
     ]
    }
   ],
   "source": [
    "# Try to fit some model\n",
    "cls = DecisionTreeClassifier(random_state=241)\n",
    "cls.fit(X, y)\n",
    "importancies = cls.feature_importances_\n",
    "data.head()\n",
    "print(importancies)"
   ]
  }
 ],
 "metadata": {
  "kernelspec": {
   "display_name": "Python 3",
   "language": "python",
   "name": "python3"
  },
  "language_info": {
   "codemirror_mode": {
    "name": "ipython",
    "version": 3
   },
   "file_extension": ".py",
   "mimetype": "text/x-python",
   "name": "python",
   "nbconvert_exporter": "python",
   "pygments_lexer": "ipython3",
   "version": "3.8.3"
  }
 },
 "nbformat": 4,
 "nbformat_minor": 4
}
