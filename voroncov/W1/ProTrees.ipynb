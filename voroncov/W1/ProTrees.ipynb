{
 "cells": [
  {
   "cell_type": "code",
   "execution_count": 1,
   "metadata": {},
   "outputs": [
    {
     "name": "stderr",
     "output_type": "stream",
     "text": [
      "<frozen importlib._bootstrap>:219: RuntimeWarning: numpy.ufunc size changed, may indicate binary incompatibility. Expected 112 from C header, got 124 from PyObject\n"
     ]
    }
   ],
   "source": [
    "\"\"\"\n",
    "Скрипт для решения задачи про деревья\n",
    "\"\"\"\n",
    "import pandas as pd \n",
    "from sklearn.tree import DecisionTreeClassifier\n",
    "import numpy as np "
   ]
  },
  {
   "cell_type": "code",
   "execution_count": 6,
   "metadata": {},
   "outputs": [],
   "source": [
    "\"\"\"\n",
    "Data preparing\n",
    "\"\"\"\n",
    "df = pd.read_csv('titanic.csv')[['Pclass', 'Sex', 'Age', 'Fare', 'Survived']].dropna()\n",
    "df['Sex'] = df['Sex'].apply(lambda x : 0 if x == \"female\" else 1)\n",
    "X = df[['Pclass', 'Sex', 'Age', 'Fare']]\n",
    "y = df['Survived']"
   ]
  },
  {
   "cell_type": "code",
   "execution_count": 7,
   "metadata": {},
   "outputs": [],
   "source": [
    "\"\"\"\n",
    "Model preparing\n",
    "\"\"\"\n",
    "\n",
    "def DTC(X:pd.DataFrame, y:pd.DataFrame) -> DecisionTreeClassifier:\n",
    "    clf = DecisionTreeClassifier(random_state=241)\n",
    "    clf.fit(X,y)\n",
    "    return clf \n",
    "\n",
    "clf = DTC(X,y)"
   ]
  },
  {
   "cell_type": "code",
   "execution_count": 10,
   "metadata": {},
   "outputs": [],
   "source": [
    "\"\"\"\n",
    "Feature importancies\n",
    "\"\"\"\n",
    "features = [(clf.feature_importances_[i], X.columns[i]) for i in range(len(X.columns))]\n",
    "features = sorted(features)\n",
    "with open('answer_trees.txt', 'w') as fhand:\n",
    "    fhand.write(\" \".join([features[-2][-1], features[-1][-1]]))"
   ]
  },
  {
   "cell_type": "code",
   "execution_count": null,
   "metadata": {},
   "outputs": [],
   "source": []
  }
 ],
 "metadata": {
  "kernelspec": {
   "display_name": "Python 3",
   "language": "python",
   "name": "python3"
  },
  "language_info": {
   "codemirror_mode": {
    "name": "ipython",
    "version": 3
   },
   "file_extension": ".py",
   "mimetype": "text/x-python",
   "name": "python",
   "nbconvert_exporter": "python",
   "pygments_lexer": "ipython3",
   "version": "3.8.3"
  }
 },
 "nbformat": 4,
 "nbformat_minor": 4
}
