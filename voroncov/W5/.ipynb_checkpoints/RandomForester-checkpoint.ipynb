{
 "cells": [
  {
   "cell_type": "code",
   "execution_count": 7,
   "metadata": {},
   "outputs": [],
   "source": [
    "import pandas as pd \n",
    "import numpy as np \n",
    "from sklearn.model_selection import KFold, cross_val_score, GridSearchCV\n",
    "from sklearn.metrics import r2_score\n",
    "from sklearn.ensemble import RandomForestRegressor"
   ]
  },
  {
   "cell_type": "code",
   "execution_count": 5,
   "metadata": {},
   "outputs": [],
   "source": [
    "\"\"\"\n",
    "Data load \n",
    "\"\"\"\n",
    "df = pd.read_csv('abalone.csv')\n",
    "df['Sex'] = df['Sex'].apply(lambda x : 1 if x == 'M' else (-1 if x == 'F' else 0))\n",
    "X = df.iloc[:,:-1]\n",
    "y = df.iloc[:, -1]"
   ]
  },
  {
   "cell_type": "code",
   "execution_count": 14,
   "metadata": {},
   "outputs": [
    {
     "data": {
      "text/plain": [
       "[(0.5276420438225101, 31),\n",
       " (0.528908112349864, 45),\n",
       " (0.5289244806388986, 32),\n",
       " (0.5290083070325597, 46),\n",
       " (0.5291786571646144, 47),\n",
       " (0.5294320415136227, 37),\n",
       " (0.5294703580378128, 40),\n",
       " (0.5294715388671245, 38),\n",
       " (0.529515898349607, 39),\n",
       " (0.5296814957917958, 44),\n",
       " (0.5298087685207094, 41),\n",
       " (0.5298209779129148, 35),\n",
       " (0.529910050667947, 36),\n",
       " (0.5299135764090978, 43),\n",
       " (0.5299613734264366, 34),\n",
       " (0.5300433306143383, 42),\n",
       " (0.5300509396315634, 48),\n",
       " (0.5301073722643779, 33),\n",
       " (0.530813058616495, 49),\n",
       " (0.5309509147417047, 50)]"
      ]
     },
     "execution_count": 14,
     "metadata": {},
     "output_type": "execute_result"
    }
   ],
   "source": [
    "\"\"\"\n",
    "RF regressor fitting\n",
    "\"\"\"\n",
    "kf = KFold(n_splits=5, shuffle=True, random_state=1)\n",
    "opt = []\n",
    "for i in range(1, 51):\n",
    "    rgr = RandomForestRegressor(random_state=1, n_estimators=i)\n",
    "    ans = cross_val_score(rgr, X, y, cv=kf, scoring='r2').mean()\n",
    "    opt.append((ans, i))\n",
    "    \n",
    "\n",
    "        \n",
    "    \n",
    "    \n",
    "\n",
    "\n"
   ]
  },
  {
   "cell_type": "code",
   "execution_count": 16,
   "metadata": {},
   "outputs": [
    {
     "name": "stdout",
     "output_type": "stream",
     "text": [
      "Miin: 21\n"
     ]
    }
   ],
   "source": [
    "opt.sort()\n",
    "minimal_trees = None\n",
    "for pair in opt:\n",
    "    if pair[0] > 0.52:\n",
    "        minimal_trees = pair[1]\n",
    "        break \n",
    "        \n",
    "with open(\"w5s1.txt\", \"w\") as fhand:\n",
    "    fhand.write(str(minimal_trees))"
   ]
  },
  {
   "cell_type": "code",
   "execution_count": null,
   "metadata": {},
   "outputs": [],
   "source": []
  }
 ],
 "metadata": {
  "kernelspec": {
   "display_name": "Python 3",
   "language": "python",
   "name": "python3"
  },
  "language_info": {
   "codemirror_mode": {
    "name": "ipython",
    "version": 3
   },
   "file_extension": ".py",
   "mimetype": "text/x-python",
   "name": "python",
   "nbconvert_exporter": "python",
   "pygments_lexer": "ipython3",
   "version": "3.8.3"
  }
 },
 "nbformat": 4,
 "nbformat_minor": 4
}
