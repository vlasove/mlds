{
 "cells": [
  {
   "cell_type": "code",
   "execution_count": 7,
   "metadata": {},
   "outputs": [],
   "source": [
    "import pandas as pd \n",
    "import numpy as np \n",
    "from sklearn.model_selection import KFold, cross_val_score, GridSearchCV\n",
    "from sklearn.metrics import r2_score\n",
    "from sklearn.ensemble import RandomForestRegressor"
   ]
  },
  {
   "cell_type": "code",
   "execution_count": 5,
   "metadata": {},
   "outputs": [],
   "source": [
    "\"\"\"\n",
    "Data load \n",
    "\"\"\"\n",
    "df = pd.read_csv('abalone.csv')\n",
    "df['Sex'] = df['Sex'].apply(lambda x : 1 if x == 'M' else (-1 if x == 'F' else 0))\n",
    "X = df.iloc[:,:-1]\n",
    "y = df.iloc[:, -1]"
   ]
  },
  {
   "cell_type": "code",
   "execution_count": 21,
   "metadata": {},
   "outputs": [],
   "source": [
    "\"\"\"\n",
    "RF regressor fitting\n",
    "\"\"\"\n",
    "kf = KFold(n_splits=5, shuffle=True, random_state=1)\n",
    "opt = []\n",
    "for i in range(1, 150):\n",
    "    rgr = RandomForestRegressor(random_state=1, n_estimators=i, n_jobs=4)\n",
    "    ans = cross_val_score(rgr, X, y, cv=kf, scoring='r2').mean()\n",
    "    opt.append((ans, i))\n",
    "    \n",
    "\n",
    "        \n",
    "    \n",
    "    \n",
    "\n",
    "\n"
   ]
  },
  {
   "cell_type": "code",
   "execution_count": 22,
   "metadata": {},
   "outputs": [],
   "source": [
    "opt.sort()\n",
    "minimal_trees = None\n",
    "for pair in opt:\n",
    "    if np.round(pair[0],decimals=2) > 0.52:\n",
    "        minimal_trees = pair[1]\n",
    "        break \n",
    "        \n",
    "with open(\"w5s1.txt\", \"w\") as fhand:\n",
    "    fhand.write(str(minimal_trees))"
   ]
  },
  {
   "cell_type": "code",
   "execution_count": 23,
   "metadata": {},
   "outputs": [
    {
     "data": {
      "image/png": "[encoded data removed]",
      "text/plain": [
       "<Figure size 432x288 with 1 Axes>"
      ]
     },
     "metadata": {
      "needs_background": "light"
     },
     "output_type": "display_data"
    }
   ],
   "source": [
    "import matplotlib.pyplot as plt \n",
    "\n",
    "cv_scores = [x[0] for x in opt]\n",
    "n_trees = [x[1] for x in opt]\n",
    "\n",
    "plt.plot(n_trees, cv_scores)\n",
    "plt.xlabel('N trees')\n",
    "plt.ylabel('CV scores')\n",
    "plt.show()"
   ]
  },
  {
   "cell_type": "code",
   "execution_count": null,
   "metadata": {},
   "outputs": [],
   "source": []
  },
  {
   "cell_type": "code",
   "execution_count": null,
   "metadata": {},
   "outputs": [],
   "source": []
  }
 ],
 "metadata": {
  "kernelspec": {
   "display_name": "Python 3",
   "language": "python",
   "name": "python3"
  },
  "language_info": {
   "codemirror_mode": {
    "name": "ipython",
    "version": 3
   },
   "file_extension": ".py",
   "mimetype": "text/x-python",
   "name": "python",
   "nbconvert_exporter": "python",
   "pygments_lexer": "ipython3",
   "version": "3.8.3"
  }
 },
 "nbformat": 4,
 "nbformat_minor": 4
}
